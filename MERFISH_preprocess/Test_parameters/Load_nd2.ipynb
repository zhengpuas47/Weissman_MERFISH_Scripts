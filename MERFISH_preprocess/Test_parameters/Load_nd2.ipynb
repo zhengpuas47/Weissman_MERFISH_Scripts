{
 "cells": [
  {
   "cell_type": "code",
   "execution_count": 1,
   "id": "6489ab23-a3ec-430b-83d4-44901781bb3a",
   "metadata": {},
   "outputs": [],
   "source": [
    "import nd2\n",
    "import os\n",
    "\n",
    "import numpy as np\n",
    "import pandas as pd\n",
    "import matplotlib.pyplot as plt"
   ]
  },
  {
   "cell_type": "code",
   "execution_count": 13,
   "id": "ad744388-f7e7-4a64-ac57-6ef3e42eede0",
   "metadata": {},
   "outputs": [
    {
     "name": "stdout",
     "output_type": "stream",
     "text": [
      "20240814_232340_437__Channel60x CY5,60x DSRED,60x GFP_Seq0008 - Denoised.nd2\n",
      "Metadata(contents=Contents(channelCount=3, frameCount=312), channels=[Channel(channel=ChannelMeta(name='60x CY5', index=0, color=Color(r=255, g=0, b=255, a=1.0), emissionLambdaNm=700.0, excitationLambdaNm=None), loops=LoopIndices(NETimeLoop=None, TimeLoop=None, XYPosLoop=0, ZStackLoop=1), microscope=Microscope(objectiveMagnification=60.0, objectiveName='PLAN APO λD 60x OIL OFN25 DIC N2', objectiveNumericalAperture=1.42, zoomMagnification=1.0, immersionRefractiveIndex=1.515, projectiveMagnification=None, pinholeDiameterUm=50.0, modalityFlags=['fluorescence', 'spinningDiskConfocal']), volume=Volume(axesCalibrated=(True, True, True), axesCalibration=(0.1107206280606, 0.1107206280606, 0.5), axesInterpretation=('distance', 'distance', 'distance'), bitsPerComponentInMemory=16, bitsPerComponentSignificant=16, cameraTransformationMatrix=(-0.9999999001902034, 0.00044678807428339995, -0.00044678807428339995, -0.9999999001902034), componentCount=1, componentDataType='unsigned', voxelCount=(2304, 2304, 13), componentMaxima=[0.0], componentMinima=[0.0], pixelToStageTransformationMatrix=None)), Channel(channel=ChannelMeta(name='60x DSRED', index=1, color=Color(r=255, g=0, b=0, a=1.0), emissionLambdaNm=605.0, excitationLambdaNm=None), loops=LoopIndices(NETimeLoop=None, TimeLoop=None, XYPosLoop=0, ZStackLoop=1), microscope=Microscope(objectiveMagnification=60.0, objectiveName='PLAN APO λD 60x OIL OFN25 DIC N2', objectiveNumericalAperture=1.42, zoomMagnification=1.0, immersionRefractiveIndex=1.515, projectiveMagnification=None, pinholeDiameterUm=50.0, modalityFlags=['fluorescence', 'spinningDiskConfocal']), volume=Volume(axesCalibrated=(True, True, True), axesCalibration=(0.1107206280606, 0.1107206280606, 0.5), axesInterpretation=('distance', 'distance', 'distance'), bitsPerComponentInMemory=16, bitsPerComponentSignificant=16, cameraTransformationMatrix=(-0.9999999001902034, 0.00044678807428339995, -0.00044678807428339995, -0.9999999001902034), componentCount=1, componentDataType='unsigned', voxelCount=(2304, 2304, 13), componentMaxima=[0.0], componentMinima=[0.0], pixelToStageTransformationMatrix=None)), Channel(channel=ChannelMeta(name='60x GFP', index=2, color=Color(r=3, g=255, b=0, a=1.0), emissionLambdaNm=511.0, excitationLambdaNm=None), loops=LoopIndices(NETimeLoop=None, TimeLoop=None, XYPosLoop=0, ZStackLoop=1), microscope=Microscope(objectiveMagnification=60.0, objectiveName='PLAN APO λD 60x OIL OFN25 DIC N2', objectiveNumericalAperture=1.42, zoomMagnification=1.0, immersionRefractiveIndex=1.515, projectiveMagnification=None, pinholeDiameterUm=50.0, modalityFlags=['fluorescence', 'spinningDiskConfocal']), volume=Volume(axesCalibrated=(True, True, True), axesCalibration=(0.1107206280606, 0.1107206280606, 0.5), axesInterpretation=('distance', 'distance', 'distance'), bitsPerComponentInMemory=16, bitsPerComponentSignificant=16, cameraTransformationMatrix=(-0.9999999001902034, 0.00044678807428339995, -0.00044678807428339995, -0.9999999001902034), componentCount=1, componentDataType='unsigned', voxelCount=(2304, 2304, 13), componentMaxima=[0.0], componentMinima=[0.0], pixelToStageTransformationMatrix=None))])\n"
     ]
    }
   ],
   "source": [
    "# load data:\n",
    "data_folder = r'/Users/puzheng/Documents/MERFISH/DY'\n",
    "for _fl in os.listdir(data_folder):\n",
    "    if _fl.split(os.extsep)[-1] == 'nd2':\n",
    "        print(_fl)\n",
    "        with nd2.ND2File(os.path.join(data_folder, _fl)) as ndfile:\n",
    "            print(ndfile.metadata)\n",
    "            metadata = ndfile.metadata\n",
    "            im_stack = ndfile.asarray()\n",
    "            voxel_sizes = ndfile.voxel_size()\n",
    "    break"
   ]
  },
  {
   "cell_type": "code",
   "execution_count": 3,
   "id": "a11dfdda-5e03-46db-a680-fbef4acd67e8",
   "metadata": {},
   "outputs": [],
   "source": [
    "# output\n",
    "output_folder = r'/Users/puzheng/Documents/MERFISH/MERFISH_Data/20240914-MF4'\n",
    "if not os.path.exists(output_folder):\n",
    "    print(f\"Create output folder: {output_folder}\")\n",
    "    os.makedirs(output_folder)"
   ]
  },
  {
   "cell_type": "code",
   "execution_count": 14,
   "id": "ee18e220-4b73-46cd-b57b-c1e8e4027d8d",
   "metadata": {},
   "outputs": [],
   "source": [
    "position_df = {'fov':[], 'X':[], 'Y':[], 'Z':[]}\n",
    "with nd2.ND2File(os.path.join(data_folder, _fl)) as ndfile:\n",
    "    for _k, _v in ndfile.unstructured_metadata()['ImageMetadataLV']['SLxExperiment']['LoopPars']['Points'].items():\n",
    "        #print(_k, _v['PosX'], _v['PosY'], _v['PosZ'])\n",
    "        position_df['fov'].append(int(_k.split('i')[-1]))\n",
    "        position_df['X'].append(_v['PosX'])\n",
    "        position_df['Y'].append(_v['PosY'])\n",
    "        position_df['Z'].append(_v['PosZ'])\n",
    "    \n",
    "    #print(ndfile.attributes)\n",
    "position_df = pd.DataFrame(position_df).set_index('fov')\n",
    "# save df\n",
    "position_df.to_csv(os.path.join(output_folder, 'positions.csv'))\n",
    "# save x-y position file:\n",
    "position_df[['X','Y']].to_csv(os.path.join(output_folder, f\"{20240914}_positions.txt\"), float_format='%.2f', index=False)"
   ]
  },
  {
   "cell_type": "code",
   "execution_count": null,
   "id": "f746e81a-821a-441b-ba3f-bfcf6527c42a",
   "metadata": {},
   "outputs": [],
   "source": [
    "# save iamges:\n",
    "# load data:\n",
    "data_folder = r'/Users/puzheng/Documents/MERFISH/DY'\n",
    "for _fl in os.listdir(data_folder):\n",
    "    if _fl.split(os.extsep)[-1] == 'nd2':\n",
    "        print(_fl)\n",
    "        with nd2.ND2File(os.path.join(data_folder, _fl)) as ndfile:\n",
    "            print(ndfile.metadata)\n",
    "            metadata = ndfile.metadata\n",
    "            im_stack = ndfile.asarray()\n",
    "    break"
   ]
  },
  {
   "cell_type": "code",
   "execution_count": null,
   "id": "2330a579",
   "metadata": {},
   "outputs": [],
   "source": []
  },
  {
   "cell_type": "code",
   "execution_count": 18,
   "id": "22dd13f5",
   "metadata": {},
   "outputs": [
    {
     "name": "stdout",
     "output_type": "stream",
     "text": [
      "(13, 3, 2304, 2304)\n"
     ]
    }
   ],
   "source": [
    "for _im in im_stack:\n",
    "    print(_im.shape)\n",
    "    break"
   ]
  },
  {
   "cell_type": "code",
   "execution_count": null,
   "id": "abc1bbdd",
   "metadata": {},
   "outputs": [],
   "source": []
  }
 ],
 "metadata": {
  "kernelspec": {
   "display_name": "merlin_env",
   "language": "python",
   "name": "python3"
  },
  "language_info": {
   "codemirror_mode": {
    "name": "ipython",
    "version": 3
   },
   "file_extension": ".py",
   "mimetype": "text/x-python",
   "name": "python",
   "nbconvert_exporter": "python",
   "pygments_lexer": "ipython3",
   "version": "3.12.5"
  }
 },
 "nbformat": 4,
 "nbformat_minor": 5
}
